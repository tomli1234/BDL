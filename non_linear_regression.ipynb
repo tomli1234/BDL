{
 "cells": [
  {
   "cell_type": "code",
   "execution_count": 160,
   "metadata": {},
   "outputs": [
    {
     "data": {
      "text/plain": [
       "<matplotlib.collections.PathCollection at 0x256625b29b0>"
      ]
     },
     "execution_count": 160,
     "metadata": {},
     "output_type": "execute_result"
    },
    {
     "data": {
      "image/png": "[encoded data removed]",
      "text/plain": [
       "<Figure size 432x288 with 1 Axes>"
      ]
     },
     "metadata": {},
     "output_type": "display_data"
    }
   ],
   "source": [
    "import pandas as pd\n",
    "import numpy as np\n",
    "%matplotlib inline\n",
    "import matplotlib.pyplot as plt\n",
    "import tensorflow as tf\n",
    "import tensorflow_probability as tfp\n",
    "\n",
    "# Data\n",
    "n = 100\n",
    "x = np.linspace(0,1,n)\n",
    "epis = np.random.uniform(-1,1,n)\n",
    "y = np.sin(x + epis * (x/1)**1.1)\n",
    "\n",
    "plt.scatter(x, y, s = 2)"
   ]
  },
  {
   "cell_type": "code",
   "execution_count": 161,
   "metadata": {},
   "outputs": [
    {
     "data": {
      "text/plain": [
       "(100, 1)"
      ]
     },
     "execution_count": 161,
     "metadata": {},
     "output_type": "execute_result"
    }
   ],
   "source": [
    "x = x.reshape(n, 1)\n",
    "x.shape"
   ]
  },
  {
   "cell_type": "markdown",
   "metadata": {},
   "source": [
    "## Non-Bayesian"
   ]
  },
  {
   "cell_type": "code",
   "execution_count": 162,
   "metadata": {},
   "outputs": [],
   "source": [
    "# Network parameter\n",
    "n_inputs = 1\n",
    "n_hidden1 = 100\n",
    "n_hidden2 = 50\n",
    "n_outputs = 1\n",
    "\n",
    "# tf Graph input\n",
    "X_tf = tf.placeholder(tf.float32,\n",
    "                  shape = (None, n_inputs),\n",
    "                  name = 'X')\n",
    "y_tf = tf.placeholder(tf.float32,\n",
    "                  shape = (None),\n",
    "                  name = 'y')\n",
    "\n",
    "# Paraameters\n",
    "learning_rate = 0.1\n",
    "num_steps = 4000\n",
    "batch_size = 100\n",
    "display_step = 500\n",
    "\n",
    "# Layer weights and bias\n",
    "weights = {\n",
    "    'h1': tf.Variable(tf.random_normal([n_inputs, n_hidden1])),\n",
    "    'h2': tf.Variable(tf.random_normal([n_hidden1, n_hidden2])),\n",
    "    'out': tf.Variable(tf.random_normal([n_hidden2, n_outputs])), \n",
    "}\n",
    "biases = {\n",
    "    'b1': tf.Variable(tf.random_normal([n_hidden1])),\n",
    "    'b2': tf.Variable(tf.random_normal([n_hidden2])),\n",
    "    'out': tf.Variable(tf.random_normal([n_outputs])), \n",
    "}\n",
    "\n",
    "# Model\n",
    "def neural_net(x):\n",
    "    # Hidden fully connected\n",
    "    layer_1 = tf.nn.relu(tf.add(tf.matmul(x, weights['h1']), biases['b1']))\n",
    "    #layer_1 = tf.nn.dropout(layer_1, keep_prob=0.8)\n",
    "    layer_2 = tf.nn.relu(tf.add(tf.matmul(layer_1, weights['h2']), biases['b2']))\n",
    "    #layer_2 = tf.nn.dropout(layer_2, keep_prob=0.8)\n",
    "    # Output\n",
    "    out_layer = tf.add(tf.matmul(layer_2, weights['out']), biases['out'])\n",
    "    \n",
    "    return out_layer"
   ]
  },
  {
   "cell_type": "code",
   "execution_count": 163,
   "metadata": {},
   "outputs": [],
   "source": [
    "# Construct model\n",
    "NN = neural_net(X_tf)\n",
    "\n",
    "# Define loss function and optimizer\n",
    "loss_op = tf.losses.mean_squared_error(labels = y_tf,\n",
    "                                        predictions = tf.transpose(NN))\n",
    "optimizer = tf.train.AdamOptimizer(learning_rate = learning_rate)\n",
    "train_op = optimizer.minimize(loss_op)\n",
    "\n",
    "# Evaluate model\n",
    "\n",
    "# Initialize the variables\n",
    "init = tf.global_variables_initializer()"
   ]
  },
  {
   "cell_type": "code",
   "execution_count": 164,
   "metadata": {
    "scrolled": true
   },
   "outputs": [
    {
     "name": "stdout",
     "output_type": "stream",
     "text": [
      "step 1, Minibatch Loss = 11235.253\n",
      "step 500, Minibatch Loss = 0.055523153\n",
      "step 1000, Minibatch Loss = 0.053400226\n",
      "step 1500, Minibatch Loss = 0.05281122\n",
      "step 2000, Minibatch Loss = 0.052576803\n",
      "step 2500, Minibatch Loss = 0.052389745\n",
      "step 3000, Minibatch Loss = 0.05236649\n",
      "step 3500, Minibatch Loss = 0.05251885\n",
      "step 4000, Minibatch Loss = 0.05237188\n",
      "optimization finished\n"
     ]
    }
   ],
   "source": [
    "# Start training\n",
    "with tf.Session() as sess:\n",
    "    # Run the initializer\n",
    "    sess.run(init)\n",
    "    \n",
    "    for step in range(1, num_steps+1):\n",
    "        #batch_x = np.random.choice(x[:,0], batch_size).reshape(batch_size, 1)\n",
    "        #batch_y = np.random.choice(y, batch_size)\n",
    "        batch_x = x\n",
    "        batch_y = y\n",
    "        # Run optimization op (backprop)\n",
    "        sess.run(train_op, feed_dict={X_tf: batch_x, y_tf: batch_y})\n",
    "        if step % display_step == 0 or step == 1:\n",
    "            # Calcualte batch loss and accuracy\n",
    "            loss = sess.run(loss_op, feed_dict={X_tf: batch_x, y_tf: batch_y})\n",
    "            print(\"step \" + str(step) + \", Minibatch Loss = \" + str(loss))\n",
    "    \n",
    "    print(\"optimization finished\")\n",
    "    \n",
    "    pred = sess.run(NN, feed_dict={X_tf: x})\n"
   ]
  },
  {
   "cell_type": "code",
   "execution_count": 165,
   "metadata": {},
   "outputs": [
    {
     "data": {
      "text/plain": [
       "[<matplotlib.lines.Line2D at 0x256615297b8>]"
      ]
     },
     "execution_count": 165,
     "metadata": {},
     "output_type": "execute_result"
    },
    {
     "data": {
      "image/png": "[encoded data removed]",
      "text/plain": [
       "<Figure size 432x288 with 1 Axes>"
      ]
     },
     "metadata": {},
     "output_type": "display_data"
    }
   ],
   "source": [
    "plt.scatter(x, y, s = 2)\n",
    "plt.plot(x, pred)\n"
   ]
  },
  {
   "cell_type": "markdown",
   "metadata": {},
   "source": [
    "## Bayesian"
   ]
  },
  {
   "cell_type": "code",
   "execution_count": 177,
   "metadata": {},
   "outputs": [],
   "source": [
    "neural_net = tf.keras.Sequential([\n",
    "    tfp.layers.DenseFlipout(100, activation=tf.nn.relu),\n",
    "    tfp.layers.DenseFlipout(50, activation=tf.nn.relu),\n",
    "    tfp.layers.DenseFlipout(1),\n",
    "])\n",
    "\n",
    "# Construct model\n",
    "NN = neural_net(X_tf)\n",
    "\n",
    "# Define loss function and optimizer\n",
    "loss_op = tf.losses.mean_squared_error(labels = y_tf,\n",
    "                                        predictions = tf.transpose(NN))\n",
    "optimizer = tf.train.AdamOptimizer(learning_rate = learning_rate)\n",
    "train_op = optimizer.minimize(loss_op)\n",
    "\n",
    "# Initialize the variables\n",
    "init = tf.global_variables_initializer()"
   ]
  },
  {
   "cell_type": "code",
   "execution_count": 178,
   "metadata": {},
   "outputs": [
    {
     "name": "stdout",
     "output_type": "stream",
     "text": [
      "step 1, Minibatch Loss = 4.2154374\n",
      "step 500, Minibatch Loss = 0.054940235\n",
      "step 1000, Minibatch Loss = 0.054725956\n",
      "step 1500, Minibatch Loss = 0.054962415\n",
      "step 2000, Minibatch Loss = 0.05440422\n",
      "step 2500, Minibatch Loss = 0.054865006\n",
      "step 3000, Minibatch Loss = 0.05454491\n",
      "step 3500, Minibatch Loss = 0.054568395\n",
      "step 4000, Minibatch Loss = 0.054572843\n",
      "optimization finished\n"
     ]
    }
   ],
   "source": [
    "# Start training\n",
    "with tf.Session() as sess:\n",
    "    # Run the initializer\n",
    "    sess.run(init)\n",
    "    \n",
    "    for step in range(1, num_steps+1):\n",
    "        batch_x = x\n",
    "        batch_y = y\n",
    "        # Run optimization op (backprop)\n",
    "        sess.run(train_op, feed_dict={X_tf: batch_x, y_tf: batch_y})\n",
    "        if step % display_step == 0 or step == 1:\n",
    "            # Calcualte batch loss and accuracy\n",
    "            loss = sess.run(loss_op, feed_dict={X_tf: batch_x, y_tf: batch_y})\n",
    "            print(\"step \" + str(step) + \", Minibatch Loss = \" + str(loss))\n",
    "    \n",
    "    print(\"optimization finished\")\n",
    "    \n",
    "    pred_mean = sess.run(NN, feed_dict={X_tf: x})\n",
    "    \n",
    "    # Draw sample for the weights and bias from the posterior\n",
    "    w0_draw = []\n",
    "    w1_draw = []\n",
    "    w2_draw = []\n",
    "    b0_draw = []\n",
    "    b1_draw = []\n",
    "    b2_draw = []\n",
    "    for i in range(5):\n",
    "        w0_draw.append(neural_net.layers[0].kernel_posterior.sample().eval())\n",
    "        w1_draw.append(neural_net.layers[1].kernel_posterior.sample().eval())\n",
    "        w2_draw.append(neural_net.layers[2].kernel_posterior.sample().eval())\n",
    "        b0_draw.append(neural_net.layers[0].bias_posterior.sample().eval())\n",
    "        b1_draw.append(neural_net.layers[1].bias_posterior.sample().eval())\n",
    "        b2_draw.append(neural_net.layers[2].bias_posterior.sample().eval())\n",
    "    \n"
   ]
  },
  {
   "cell_type": "code",
   "execution_count": 179,
   "metadata": {},
   "outputs": [],
   "source": [
    "def np_relu(x):\n",
    "    return np.maximum(x, 0)\n",
    "\n",
    "pred = []\n",
    "for i in range(5):\n",
    "    pred.append(np_relu(np_relu(x.dot(w0_draw[i])+b0_draw[i]).dot(w1_draw[i])+b1_draw[i]).dot(w2_draw[i])+b2_draw[i])"
   ]
  },
  {
   "cell_type": "code",
   "execution_count": 180,
   "metadata": {},
   "outputs": [
    {
     "data": {
      "text/plain": [
       "[<matplotlib.lines.Line2D at 0x2566caeb588>]"
      ]
     },
     "execution_count": 180,
     "metadata": {},
     "output_type": "execute_result"
    },
    {
     "data": {
      "image/png": "[encoded data removed]",
      "text/plain": [
       "<Figure size 432x288 with 1 Axes>"
      ]
     },
     "metadata": {},
     "output_type": "display_data"
    }
   ],
   "source": [
    "plt.scatter(x, y, s = 2)\n",
    "for i in range(5):\n",
    "    plt.plot(x, pred[i], c = 'r')\n",
    "plt.plot(x, pred_mean, c = 'g')\n",
    "\n",
    "\n",
    "\n"
   ]
  },
  {
   "cell_type": "code",
   "execution_count": 181,
   "metadata": {},
   "outputs": [
    {
     "data": {
      "text/plain": [
       "[array([[-0.6397305 , -0.11773546, -0.54290485, -0.71948785, -0.3888537 ,\n",
       "         -0.8151191 , -0.3514616 , -0.66546756, -0.61162764, -0.4407161 ,\n",
       "         -0.36821067, -0.5041183 , -0.19022177, -0.6334102 , -0.44945985,\n",
       "         -0.6010383 , -0.4069829 , -0.7911164 ,  2.3382232 , -0.5098265 ,\n",
       "         -0.55893636, -0.5645871 , -0.6143664 , -0.85366946, -0.51321685,\n",
       "         -0.13027216, -0.59084296, -0.37068802, -0.45616993, -0.4037945 ,\n",
       "         -0.48447075, -0.468693  , -0.6140524 , -0.68658876, -0.60454464,\n",
       "         -0.6709549 , -0.5037961 , -0.54206645, -0.14243242, -0.6939148 ,\n",
       "         -0.18673034, -0.64836264, -0.55447745, -0.61159325, -0.18565449,\n",
       "         -0.49692985, -0.4600061 , -0.55775696, -0.38006824, -0.9683768 ,\n",
       "         -0.49069196, -0.52409285, -0.9393391 , -0.32643452, -0.10322304,\n",
       "         -0.5286195 , -0.65560466, -0.75029266, -0.68175745, -0.18672359,\n",
       "         -0.50963193, -0.69083315, -0.30502614, -0.8012857 , -0.4341672 ,\n",
       "         -0.44430724, -0.5313241 , -0.6296703 , -0.43733454, -0.23293775,\n",
       "          1.1891979 , -0.66317856, -0.3275826 , -0.60809326, -0.5192936 ,\n",
       "         -0.781271  , -0.5322892 , -0.6996241 , -1.4494061 , -0.45696145,\n",
       "         -0.11884159, -0.81155854, -0.45296362, -1.0223898 , -0.43855646,\n",
       "         -0.54163575, -0.57192576, -0.2029307 , -0.6212294 , -0.6356413 ,\n",
       "         -0.36460847, -0.7848249 , -2.2725306 , -2.4612615 , -0.46007666,\n",
       "         -0.50800776, -0.41762185, -1.1805006 , -1.1881998 , -0.5283892 ]],\n",
       "       dtype=float32),\n",
       " array([[-0.66790897, -0.1248404 , -0.5444228 , -0.72271705, -0.39963633,\n",
       "         -0.72000146, -0.343759  , -0.6423982 , -0.63004506, -0.4400042 ,\n",
       "         -0.38723046, -0.45561785, -0.15769777, -0.55312717, -0.4728715 ,\n",
       "         -0.59461105, -0.43561772, -0.79722863,  2.3370957 , -0.46935916,\n",
       "         -0.54722315, -0.52653587, -0.6228485 , -0.889543  , -0.49402133,\n",
       "         -0.17735645, -0.578333  , -0.4914403 , -0.5112553 , -0.44263163,\n",
       "         -0.5027958 , -0.45795444, -0.6570894 , -0.78931594, -0.6314223 ,\n",
       "         -0.64171267, -0.46284956, -0.5366187 , -0.19743657, -0.73555404,\n",
       "         -0.13316762, -0.7102376 , -0.53571105, -0.6028638 , -0.15123056,\n",
       "         -0.72205013, -0.5196489 , -0.36435702, -0.4673655 , -0.96107775,\n",
       "         -0.50819975, -0.5348404 , -0.89910334, -0.27997625, -0.19379891,\n",
       "         -0.5570221 , -0.6720245 , -0.7288814 , -0.72111255, -0.12506498,\n",
       "         -0.48505786, -0.635004  , -0.39624786, -0.8103085 , -0.29351518,\n",
       "         -0.50938076, -0.5836806 , -0.65589416, -0.43292382, -0.25629517,\n",
       "          1.1847451 , -0.58718157, -0.3155934 , -0.61499065, -0.50688636,\n",
       "         -1.2742357 , -0.5540187 , -0.68202364, -1.4494996 , -0.37470648,\n",
       "         -0.08631064, -0.8062363 , -0.60502946, -1.0261053 , -0.41514206,\n",
       "         -0.5202834 , -0.6312404 , -0.12896839, -0.6078057 , -0.64587784,\n",
       "         -0.44711918, -0.79804236, -2.2709477 , -2.4627578 , -0.39615002,\n",
       "         -0.5604689 , -0.46067697, -1.3728015 , -1.1665702 , -0.5632373 ]],\n",
       "       dtype=float32),\n",
       " array([[-0.67556006, -0.1548809 , -0.64877456, -0.75221866, -0.35998178,\n",
       "         -0.8088735 , -0.54110354, -0.6758251 , -0.59816957, -0.43017492,\n",
       "         -0.40877673, -0.46485537, -0.07652563, -0.58794904, -0.5342178 ,\n",
       "         -0.44927713, -0.4639659 , -0.7653702 ,  2.3372371 , -0.46597853,\n",
       "         -0.5806903 , -0.5220827 , -0.62956154, -0.85921115, -0.51127386,\n",
       "         -0.14203714, -0.57870996, -0.39706352, -0.4905313 , -0.4966182 ,\n",
       "         -0.48387218, -0.4253833 , -0.52031827, -0.7226808 , -0.57888055,\n",
       "         -0.62288153, -0.40457243, -0.51961625, -0.26326695, -0.7268463 ,\n",
       "         -0.10381752, -0.67615426, -0.59251004, -0.5935175 , -0.2508312 ,\n",
       "         -0.5608507 , -0.54185987, -0.47804746, -0.35156402, -1.2384473 ,\n",
       "         -0.49955124, -0.560991  , -0.94809055, -0.29923898, -0.15931413,\n",
       "         -0.5191564 , -0.6444043 , -0.71286744, -0.67992705, -0.17730857,\n",
       "         -0.47263673, -0.6549219 , -0.37505758, -0.739841  , -0.3625581 ,\n",
       "         -0.5666606 , -0.5614979 , -0.6478935 , -0.40383416, -0.26664102,\n",
       "          1.1832377 , -0.5718345 , -0.32950366, -0.5582316 , -0.51852715,\n",
       "         -1.1868396 , -0.5347177 , -0.7100712 , -1.4500937 , -0.46412924,\n",
       "         -0.00884831, -0.89518195, -0.5777181 , -1.0452732 , -0.35786983,\n",
       "         -0.46694052, -0.6102758 , -0.41866982, -0.63119686, -0.64663506,\n",
       "         -0.42608693, -0.81134343, -2.2685063 , -2.4616725 , -0.3844896 ,\n",
       "         -0.61156684, -0.40741348, -1.5318527 , -1.1837664 , -0.56664634]],\n",
       "       dtype=float32),\n",
       " array([[-0.6116453 , -0.15886883, -0.61793786, -0.7295437 , -0.35777947,\n",
       "         -0.74216634, -0.37243402, -0.6452618 , -0.6218216 , -0.45895308,\n",
       "         -0.45945534, -0.5533383 , -0.13561782, -0.54740524, -0.5479823 ,\n",
       "         -0.44719893, -0.47458243, -0.76671034,  2.3376887 , -0.4703162 ,\n",
       "         -0.5671753 , -0.5518952 , -0.59896266, -0.9006041 , -0.48216173,\n",
       "         -0.17625745, -0.6295915 , -0.42852575, -0.55055493, -0.42733508,\n",
       "         -0.47391602, -0.41889507, -0.48901418, -0.7201894 , -0.6071864 ,\n",
       "         -0.66030735, -0.48846236, -0.56333727, -0.20382212, -0.67544717,\n",
       "         -0.17278805, -0.68199664, -0.5710751 , -0.59371406, -0.24013153,\n",
       "         -0.5819708 , -0.5681263 , -0.5722176 , -0.32629743, -1.1334095 ,\n",
       "         -0.50753164, -0.57940584, -0.8978568 , -0.27177295, -0.15344039,\n",
       "         -0.49797988, -0.73669225, -0.70418006, -0.7018672 , -0.15874079,\n",
       "         -0.48093244, -0.6468132 , -0.39078408, -0.76491475, -0.2040291 ,\n",
       "         -0.50351554, -0.5496629 , -0.6239999 , -0.45465016, -0.26358342,\n",
       "          1.1865295 , -0.5535051 , -0.2839126 , -0.59162444, -0.5614776 ,\n",
       "         -0.66717607, -0.56765306, -0.69264376, -1.4501647 , -0.45378724,\n",
       "         -0.06571937, -0.9360527 , -0.38947856, -1.0485905 , -0.3913692 ,\n",
       "         -0.54202867, -0.56932604, -0.2960874 , -0.6485298 , -0.6719689 ,\n",
       "         -0.35934865, -0.76006687, -2.270296  , -2.4623494 , -0.48907077,\n",
       "         -0.5412139 , -0.4573315 , -1.2840096 , -1.1661924 , -0.5434992 ]],\n",
       "       dtype=float32),\n",
       " array([[-0.63873035, -0.14271702, -0.518381  , -0.7540137 , -0.3350423 ,\n",
       "         -0.6875287 , -0.48680463, -0.65465593, -0.627882  , -0.51492065,\n",
       "         -0.4042717 , -0.51475966, -0.07659595, -0.6722566 , -0.5604576 ,\n",
       "         -0.56737566, -0.43777546, -0.81103855,  2.3380568 , -0.5395979 ,\n",
       "         -0.5432428 , -0.5459995 , -0.6092314 , -0.86852896, -0.50582755,\n",
       "         -0.14333624, -0.616591  , -0.41279915, -0.5027062 , -0.49592066,\n",
       "         -0.47564483, -0.45013976, -0.5550143 , -0.72815526, -0.6403778 ,\n",
       "         -0.668932  , -0.5007158 , -0.478981  , -0.19542941, -0.6618613 ,\n",
       "         -0.16720435, -0.6242464 , -0.54967844, -0.5724908 , -0.25502175,\n",
       "         -0.6740157 , -0.47917616, -0.5015069 , -0.41004592, -1.2782252 ,\n",
       "         -0.482238  , -0.5622891 , -0.9063669 , -0.41229016, -0.19271192,\n",
       "         -0.53453994, -0.68138826, -0.70272785, -0.69916284, -0.16613778,\n",
       "         -0.49315688, -0.687735  , -0.3742712 , -0.7825252 , -0.2665574 ,\n",
       "         -0.5063081 , -0.56764007, -0.55776757, -0.43917924, -0.22440219,\n",
       "          1.1806189 , -0.54692316, -0.33833137, -0.5860634 , -0.5308592 ,\n",
       "         -0.99487567, -0.55634433, -0.6284694 , -1.4495683 , -0.4680219 ,\n",
       "         -0.04498294, -0.9732125 , -0.3270512 , -1.0235835 , -0.39948013,\n",
       "         -0.4881906 , -0.619536  , -0.26806158, -0.59242845, -0.6945795 ,\n",
       "         -0.3928445 , -0.76883227, -2.2683396 , -2.46246   , -0.4694883 ,\n",
       "         -0.7222862 , -0.39828518, -0.8547762 , -1.1746516 , -0.5537115 ]],\n",
       "       dtype=float32)]"
      ]
     },
     "execution_count": 181,
     "metadata": {},
     "output_type": "execute_result"
    }
   ],
   "source": [
    "w0_draw"
   ]
  },
  {
   "cell_type": "code",
   "execution_count": null,
   "metadata": {},
   "outputs": [],
   "source": []
  }
 ],
 "metadata": {
  "kernelspec": {
   "display_name": "Python 3",
   "language": "python",
   "name": "python3"
  },
  "language_info": {
   "codemirror_mode": {
    "name": "ipython",
    "version": 3
   },
   "file_extension": ".py",
   "mimetype": "text/x-python",
   "name": "python",
   "nbconvert_exporter": "python",
   "pygments_lexer": "ipython3",
   "version": "3.6.5"
  }
 },
 "nbformat": 4,
 "nbformat_minor": 2
}
