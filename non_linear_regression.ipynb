{
 "cells": [
  {
   "cell_type": "code",
   "execution_count": 397,
   "metadata": {},
   "outputs": [
    {
     "data": {
      "text/plain": [
       "<matplotlib.collections.PathCollection at 0x2840a2bc7f0>"
      ]
     },
     "execution_count": 397,
     "metadata": {},
     "output_type": "execute_result"
    },
    {
     "data": {
      "image/png": "[encoded data removed]",
      "text/plain": [
       "<Figure size 432x288 with 1 Axes>"
      ]
     },
     "metadata": {},
     "output_type": "display_data"
    }
   ],
   "source": [
    "import pandas as pd\n",
    "import numpy as np\n",
    "%matplotlib inline\n",
    "import matplotlib.pyplot as plt\n",
    "import tensorflow as tf\n",
    "import tensorflow_probability as tfp\n",
    "\n",
    "# Data\n",
    "n = 300\n",
    "x = np.linspace(0,10,n)\n",
    "\n",
    "# Drop data points\n",
    "r = np.random.uniform(0,10,n)\n",
    "x = x[x < r]\n",
    "\n",
    "n = len(x)\n",
    "\n",
    "epis = np.random.uniform(-1,1,n)\n",
    "y = np.sin(x + epis * (x/1)**0.1)\n",
    "y = np.sin(x + epis)\n",
    "\n",
    "y = y*100\n",
    "\n",
    "plt.scatter(x, y, s = 2)"
   ]
  },
  {
   "cell_type": "code",
   "execution_count": 398,
   "metadata": {},
   "outputs": [
    {
     "data": {
      "text/plain": [
       "(141, 1)"
      ]
     },
     "execution_count": 398,
     "metadata": {},
     "output_type": "execute_result"
    }
   ],
   "source": [
    "x = x.reshape(n, 1)\n",
    "x.shape"
   ]
  },
  {
   "cell_type": "markdown",
   "metadata": {},
   "source": [
    "## Non-Bayesian"
   ]
  },
  {
   "cell_type": "code",
   "execution_count": 399,
   "metadata": {},
   "outputs": [],
   "source": [
    "# Network parameter\n",
    "n_inputs = 1\n",
    "n_hidden1 = 20\n",
    "n_hidden2 = 20\n",
    "n_outputs = 1\n",
    "\n",
    "# tf Graph input\n",
    "X_tf = tf.placeholder(tf.float32,\n",
    "                  shape = (None, n_inputs),\n",
    "                  name = 'X')\n",
    "y_tf = tf.placeholder(tf.float32,\n",
    "                  shape = (None),\n",
    "                  name = 'y')\n",
    "\n",
    "# Paraameters\n",
    "learning_rate = 0.1\n",
    "num_steps = 10000\n",
    "batch_size = 100\n",
    "display_step = 500\n",
    "\n",
    "# Layer weights and bias\n",
    "weights = {\n",
    "    'h1': tf.Variable(tf.random_normal([n_inputs, n_hidden1])),\n",
    "    'h2': tf.Variable(tf.random_normal([n_hidden1, n_hidden2])),\n",
    "    'out': tf.Variable(tf.random_normal([n_hidden2, n_outputs])), \n",
    "}\n",
    "biases = {\n",
    "    'b1': tf.Variable(tf.random_normal([n_hidden1])),\n",
    "    'b2': tf.Variable(tf.random_normal([n_hidden2])),\n",
    "    'out': tf.Variable(tf.random_normal([n_outputs])), \n",
    "}\n",
    "\n",
    "# Model\n",
    "def neural_net(x):\n",
    "    # Hidden fully connected\n",
    "    layer_1 = tf.nn.relu(tf.add(tf.matmul(x, weights['h1']), biases['b1']))\n",
    "    #layer_1 = tf.nn.dropout(layer_1, keep_prob=0.8)\n",
    "    layer_2 = tf.nn.relu(tf.add(tf.matmul(layer_1, weights['h2']), biases['b2']))\n",
    "    #layer_2 = tf.nn.dropout(layer_2, keep_prob=0.8)\n",
    "    # Output\n",
    "    out_layer = tf.add(tf.matmul(layer_2, weights['out']), biases['out'])\n",
    "    \n",
    "    return out_layer"
   ]
  },
  {
   "cell_type": "code",
   "execution_count": 400,
   "metadata": {},
   "outputs": [],
   "source": [
    "# Construct model\n",
    "NN = neural_net(X_tf)\n",
    "\n",
    "# Define loss function and optimizer\n",
    "loss_op = tf.losses.mean_squared_error(labels = y_tf,\n",
    "                                        predictions = tf.transpose(NN))\n",
    "optimizer = tf.train.AdamOptimizer()\n",
    "train_op = optimizer.minimize(loss_op)\n",
    "\n",
    "# Evaluate model\n",
    "\n",
    "# Initialize the variables\n",
    "init = tf.global_variables_initializer()"
   ]
  },
  {
   "cell_type": "code",
   "execution_count": 401,
   "metadata": {
    "scrolled": true
   },
   "outputs": [
    {
     "name": "stdout",
     "output_type": "stream",
     "text": [
      "step 1, Minibatch Loss = 4514.38\n",
      "step 500, Minibatch Loss = 3046.5037\n",
      "step 1000, Minibatch Loss = 2030.1785\n",
      "step 1500, Minibatch Loss = 1819.8682\n",
      "step 2000, Minibatch Loss = 1813.5989\n",
      "step 2500, Minibatch Loss = 1812.9755\n",
      "step 3000, Minibatch Loss = 1811.6508\n",
      "step 3500, Minibatch Loss = 1811.1895\n",
      "step 4000, Minibatch Loss = 1810.68\n",
      "step 4500, Minibatch Loss = 1810.0756\n",
      "step 5000, Minibatch Loss = 1809.3461\n",
      "step 5500, Minibatch Loss = 1807.1941\n",
      "step 6000, Minibatch Loss = 1803.942\n",
      "step 6500, Minibatch Loss = 1801.1951\n",
      "step 7000, Minibatch Loss = 1798.1698\n",
      "step 7500, Minibatch Loss = 1794.8287\n",
      "step 8000, Minibatch Loss = 1792.4846\n",
      "step 8500, Minibatch Loss = 1790.9177\n",
      "step 9000, Minibatch Loss = 1789.597\n",
      "step 9500, Minibatch Loss = 1788.2257\n",
      "step 10000, Minibatch Loss = 1786.8712\n",
      "optimization finished\n"
     ]
    }
   ],
   "source": [
    "# Start training\n",
    "with tf.Session() as sess:\n",
    "    # Run the initializer\n",
    "    sess.run(init)\n",
    "    \n",
    "    for step in range(1, num_steps+1):\n",
    "        #batch_x = np.random.choice(x[:,0], batch_size).reshape(batch_size, 1)\n",
    "        #batch_y = np.random.choice(y, batch_size)\n",
    "        batch_x = x\n",
    "        batch_y = y\n",
    "        # Run optimization op (backprop)\n",
    "        sess.run(train_op, feed_dict={X_tf: batch_x, y_tf: batch_y})\n",
    "        if step % display_step == 0 or step == 1:\n",
    "            # Calcualte batch loss and accuracy\n",
    "            loss = sess.run(loss_op, feed_dict={X_tf: batch_x, y_tf: batch_y})\n",
    "            print(\"step \" + str(step) + \", Minibatch Loss = \" + str(loss))\n",
    "    \n",
    "    print(\"optimization finished\")\n",
    "    \n",
    "    pred = sess.run(NN, feed_dict={X_tf: x})\n"
   ]
  },
  {
   "cell_type": "code",
   "execution_count": 402,
   "metadata": {},
   "outputs": [
    {
     "data": {
      "text/plain": [
       "[<matplotlib.lines.Line2D at 0x2840a3e8b00>]"
      ]
     },
     "execution_count": 402,
     "metadata": {},
     "output_type": "execute_result"
    },
    {
     "data": {
      "image/png": "[encoded data removed]",
      "text/plain": [
       "<Figure size 432x288 with 1 Axes>"
      ]
     },
     "metadata": {},
     "output_type": "display_data"
    }
   ],
   "source": [
    "plt.scatter(x, y, s = 2)\n",
    "plt.plot(x, pred)\n"
   ]
  },
  {
   "cell_type": "markdown",
   "metadata": {},
   "source": [
    "## Bayesian"
   ]
  },
  {
   "cell_type": "code",
   "execution_count": 403,
   "metadata": {},
   "outputs": [],
   "source": [
    "neural_net = tf.keras.Sequential([\n",
    "    tfp.layers.DenseFlipout(30, activation=tf.nn.relu),\n",
    "    tfp.layers.DenseFlipout(30, activation=tf.nn.relu),\n",
    "    tfp.layers.DenseFlipout(1),\n",
    "])\n",
    "\n",
    "# Construct model\n",
    "NN = neural_net(X_tf)\n",
    "\n",
    "# Define loss function and optimizer\n",
    "neg_log_likelihood  = tf.losses.mean_squared_error(labels = y_tf,\n",
    "                                        predictions = tf.transpose(NN))\n",
    "\n",
    "kl = sum(neural_net.losses)/n\n",
    "loss_op = neg_log_likelihood + kl\n",
    "\n",
    "optimizer = tf.train.AdamOptimizer()\n",
    "train_op = optimizer.minimize(loss_op)\n",
    "\n",
    "# Initialize the variables\n",
    "init = tf.global_variables_initializer()"
   ]
  },
  {
   "cell_type": "code",
   "execution_count": 404,
   "metadata": {},
   "outputs": [
    {
     "name": "stdout",
     "output_type": "stream",
     "text": [
      "step 1, Minibatch Loss = 4677.5605\n",
      "step 500, Minibatch Loss = 3297.4321\n",
      "step 1000, Minibatch Loss = 2112.4468\n",
      "step 1500, Minibatch Loss = 1680.7749\n",
      "step 2000, Minibatch Loss = 1597.0673\n",
      "step 2500, Minibatch Loss = 1557.9319\n",
      "step 3000, Minibatch Loss = 1543.6971\n",
      "step 3500, Minibatch Loss = 1454.6364\n",
      "step 4000, Minibatch Loss = 1396.8402\n",
      "step 4500, Minibatch Loss = 1327.3666\n",
      "step 5000, Minibatch Loss = 1382.6664\n",
      "step 5500, Minibatch Loss = 1340.7454\n",
      "step 6000, Minibatch Loss = 1253.0131\n",
      "step 6500, Minibatch Loss = 1258.1633\n",
      "step 7000, Minibatch Loss = 1269.5836\n",
      "step 7500, Minibatch Loss = 1321.3777\n",
      "step 8000, Minibatch Loss = 1274.8203\n",
      "step 8500, Minibatch Loss = 1322.617\n",
      "step 9000, Minibatch Loss = 1280.2966\n",
      "step 9500, Minibatch Loss = 1316.8368\n",
      "step 10000, Minibatch Loss = 1295.0283\n",
      "optimization finished\n"
     ]
    }
   ],
   "source": [
    "# Start training\n",
    "with tf.Session() as sess:\n",
    "    # Run the initializer\n",
    "    sess.run(init)\n",
    "    \n",
    "    for step in range(1, num_steps+1):\n",
    "        batch_x = x\n",
    "        batch_y = y\n",
    "        # Run optimization op (backprop)\n",
    "        sess.run(train_op, feed_dict={X_tf: batch_x, y_tf: batch_y})\n",
    "        if step % display_step == 0 or step == 1:\n",
    "            # Calcualte batch loss and accuracy\n",
    "            loss = sess.run(loss_op, feed_dict={X_tf: batch_x, y_tf: batch_y})\n",
    "            print(\"step \" + str(step) + \", Minibatch Loss = \" + str(loss))\n",
    "    \n",
    "    print(\"optimization finished\")\n",
    "    \n",
    "    pred_mean = sess.run(NN, feed_dict={X_tf: x})\n",
    "    \n",
    "    # Draw sample for the weights and bias from the posterior\n",
    "    n_sample = 100\n",
    "    w0_draw = neural_net.layers[0].kernel_posterior.sample(n_sample).eval()\n",
    "    w1_draw = neural_net.layers[1].kernel_posterior.sample(n_sample).eval()\n",
    "    w2_draw = neural_net.layers[2].kernel_posterior.sample(n_sample).eval()\n",
    "    b0_draw = neural_net.layers[0].bias_posterior.sample(n_sample).eval()\n",
    "    b1_draw = neural_net.layers[1].bias_posterior.sample(n_sample).eval()\n",
    "    b2_draw = neural_net.layers[2].bias_posterior.sample(n_sample).eval()\n",
    "\n"
   ]
  },
  {
   "cell_type": "code",
   "execution_count": 405,
   "metadata": {},
   "outputs": [],
   "source": [
    "def np_relu(x):\n",
    "    return np.maximum(x, 0)\n",
    "\n",
    "pred = []\n",
    "for i in range(n_sample):\n",
    "    pred.append(np_relu(np_relu(x.dot(w0_draw[i])+b0_draw[i]).dot(w1_draw[i])+b1_draw[i]).dot(w2_draw[i])+b2_draw[i])"
   ]
  },
  {
   "cell_type": "code",
   "execution_count": 406,
   "metadata": {},
   "outputs": [
    {
     "data": {
      "image/png": "[encoded data removed]",
      "text/plain": [
       "<Figure size 432x288 with 1 Axes>"
      ]
     },
     "metadata": {},
     "output_type": "display_data"
    }
   ],
   "source": [
    "plt.scatter(x, y, s = 2)\n",
    "for i in range(n_sample):\n",
    "    plt.plot(x, pred[i], c = 'r', alpha = 0.1)\n",
    "#plt.plot(x, pred_mean, c = 'g')\n",
    "\n",
    "\n",
    "\n"
   ]
  },
  {
   "cell_type": "code",
   "execution_count": null,
   "metadata": {},
   "outputs": [],
   "source": []
  },
  {
   "cell_type": "code",
   "execution_count": null,
   "metadata": {},
   "outputs": [],
   "source": []
  },
  {
   "cell_type": "code",
   "execution_count": null,
   "metadata": {},
   "outputs": [],
   "source": []
  }
 ],
 "metadata": {
  "kernelspec": {
   "display_name": "Python 3",
   "language": "python",
   "name": "python3"
  },
  "language_info": {
   "codemirror_mode": {
    "name": "ipython",
    "version": 3
   },
   "file_extension": ".py",
   "mimetype": "text/x-python",
   "name": "python",
   "nbconvert_exporter": "python",
   "pygments_lexer": "ipython3",
   "version": "3.6.5"
  }
 },
 "nbformat": 4,
 "nbformat_minor": 2
}
