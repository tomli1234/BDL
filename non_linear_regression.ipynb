{
 "cells": [
  {
   "cell_type": "code",
   "execution_count": 1,
   "metadata": {},
   "outputs": [
    {
     "name": "stderr",
     "output_type": "stream",
     "text": [
      "C:\\Users\\Tom Li\\Anaconda3\\lib\\site-packages\\h5py\\__init__.py:36: FutureWarning: Conversion of the second argument of issubdtype from `float` to `np.floating` is deprecated. In future, it will be treated as `np.float64 == np.dtype(float).type`.\n",
      "  from ._conv import register_converters as _register_converters\n"
     ]
    },
    {
     "data": {
      "text/plain": [
       "[<matplotlib.lines.Line2D at 0x26dd81515f8>]"
      ]
     },
     "execution_count": 1,
     "metadata": {},
     "output_type": "execute_result"
    },
    {
     "data": {
      "image/png": "[encoded data removed]",
      "text/plain": [
       "<Figure size 432x288 with 1 Axes>"
      ]
     },
     "metadata": {},
     "output_type": "display_data"
    }
   ],
   "source": [
    "import pandas as pd\n",
    "import numpy as np\n",
    "%matplotlib inline\n",
    "import matplotlib.pyplot as plt\n",
    "import tensorflow as tf\n",
    "import tensorflow_probability as tfp\n",
    "\n",
    "# Data\n",
    "n = 20000\n",
    "x = np.linspace(0,10,n)\n",
    "\n",
    "# Drop data points\n",
    "#p = abs(np.sin(x))\n",
    "p = (x/max(x))**0.02\n",
    "r = np.random.uniform(0,1,n)\n",
    "x = x[r>p]\n",
    "\n",
    "n = len(x)\n",
    "\n",
    "epis = np.random.uniform(-1,1,n)\n",
    "#y = np.sin(x + epis * (x/1)**1)\n",
    "#y = np.sin(x + epis)\n",
    "#y = (x + epis) + x**1.5\n",
    "y_true = x + np.sin(x)\n",
    "y = y_true + epis\n",
    "#y = y*1\n",
    "\n",
    "plt.scatter(x, y, s = 0.5)\n",
    "plt.plot(x, y_true, c = 'black')"
   ]
  },
  {
   "cell_type": "code",
   "execution_count": 2,
   "metadata": {},
   "outputs": [
    {
     "data": {
      "text/plain": [
       "(array([103.,  83.,  59.,  46.,  33.,  28.,  20.,   9.,   9.,   5.]),\n",
       " array([0.        , 0.90154508, 1.80309015, 2.70463523, 3.60618031,\n",
       "        4.50772539, 5.40927046, 6.31081554, 7.21236062, 8.1139057 ,\n",
       "        9.01545077]),\n",
       " <a list of 10 Patch objects>)"
      ]
     },
     "execution_count": 2,
     "metadata": {},
     "output_type": "execute_result"
    },
    {
     "data": {
      "image/png": "[encoded data removed]",
      "text/plain": [
       "<Figure size 432x288 with 1 Axes>"
      ]
     },
     "metadata": {},
     "output_type": "display_data"
    }
   ],
   "source": [
    "x = x.reshape(n, 1)\n",
    "x.shape\n",
    "plt.hist(x)"
   ]
  },
  {
   "cell_type": "code",
   "execution_count": 3,
   "metadata": {},
   "outputs": [],
   "source": [
    "# Network parameter\n",
    "n_inputs = 1\n",
    "n_hidden1 = 10\n",
    "n_hidden2 = 10\n",
    "n_outputs = 1"
   ]
  },
  {
   "cell_type": "markdown",
   "metadata": {},
   "source": [
    "## Non-Bayesian"
   ]
  },
  {
   "cell_type": "code",
   "execution_count": 4,
   "metadata": {},
   "outputs": [],
   "source": [
    "# tf Graph input\n",
    "X_tf = tf.placeholder(tf.float32,\n",
    "                  shape = (None, n_inputs),\n",
    "                  name = 'X')\n",
    "y_tf = tf.placeholder(tf.float32,\n",
    "                  shape = (None),\n",
    "                  name = 'y')\n",
    "\n",
    "# Paraameters\n",
    "learning_rate = 0.1\n",
    "num_steps = 10000\n",
    "batch_size = 100\n",
    "display_step = 500\n",
    "\n",
    "# Layer weights and bias\n",
    "weights = {\n",
    "    'h1': tf.Variable(tf.random_normal([n_inputs, n_hidden1])),\n",
    "    'h2': tf.Variable(tf.random_normal([n_hidden1, n_hidden2])),\n",
    "    'out': tf.Variable(tf.random_normal([n_hidden2, n_outputs])), \n",
    "}\n",
    "biases = {\n",
    "    'b1': tf.Variable(tf.random_normal([n_hidden1])),\n",
    "    'b2': tf.Variable(tf.random_normal([n_hidden2])),\n",
    "    'out': tf.Variable(tf.random_normal([n_outputs])), \n",
    "}\n",
    "\n",
    "# Model\n",
    "def neural_net(x):\n",
    "    # Hidden fully connected\n",
    "    layer_1 = tf.nn.relu(tf.add(tf.matmul(x, weights['h1']), biases['b1']))\n",
    "    #layer_1 = tf.nn.dropout(layer_1, keep_prob=0.8)\n",
    "    layer_2 = tf.nn.relu(tf.add(tf.matmul(layer_1, weights['h2']), biases['b2']))\n",
    "    #layer_2 = tf.nn.dropout(layer_2, keep_prob=0.8)\n",
    "    # Output\n",
    "    out_layer = tf.add(tf.matmul(layer_2, weights['out']), biases['out'])\n",
    "    \n",
    "    return out_layer"
   ]
  },
  {
   "cell_type": "code",
   "execution_count": 5,
   "metadata": {},
   "outputs": [],
   "source": [
    "# Construct model\n",
    "NN = neural_net(X_tf)\n",
    "\n",
    "# Define loss function and optimizer\n",
    "loss_op = tf.losses.mean_squared_error(labels = y_tf,\n",
    "                                        predictions = tf.transpose(NN))\n",
    "optimizer = tf.train.AdamOptimizer()\n",
    "train_op = optimizer.minimize(loss_op)\n",
    "\n",
    "# Evaluate model\n",
    "\n",
    "# Initialize the variables\n",
    "init = tf.global_variables_initializer()"
   ]
  },
  {
   "cell_type": "code",
   "execution_count": 6,
   "metadata": {
    "scrolled": true
   },
   "outputs": [
    {
     "name": "stdout",
     "output_type": "stream",
     "text": [
      "step 1, Minibatch Loss = 42.24202\n",
      "step 500, Minibatch Loss = 0.6276624\n",
      "step 1000, Minibatch Loss = 0.5181897\n",
      "step 1500, Minibatch Loss = 0.47388142\n",
      "step 2000, Minibatch Loss = 0.43034756\n",
      "step 2500, Minibatch Loss = 0.39314112\n",
      "step 3000, Minibatch Loss = 0.36559853\n",
      "step 3500, Minibatch Loss = 0.35211885\n",
      "step 4000, Minibatch Loss = 0.34501547\n",
      "step 4500, Minibatch Loss = 0.34345335\n",
      "step 5000, Minibatch Loss = 0.34198084\n",
      "step 5500, Minibatch Loss = 0.34160838\n",
      "step 6000, Minibatch Loss = 0.3414938\n",
      "step 6500, Minibatch Loss = 0.34143957\n",
      "step 7000, Minibatch Loss = 0.34137645\n",
      "step 7500, Minibatch Loss = 0.34129453\n",
      "step 8000, Minibatch Loss = 0.34119383\n",
      "step 8500, Minibatch Loss = 0.3410638\n",
      "step 9000, Minibatch Loss = 0.3409073\n",
      "step 9500, Minibatch Loss = 0.34070688\n",
      "step 10000, Minibatch Loss = 0.34047467\n",
      "optimization finished\n"
     ]
    }
   ],
   "source": [
    "# Start training\n",
    "with tf.Session() as sess:\n",
    "    # Run the initializer\n",
    "    sess.run(init)\n",
    "    \n",
    "    for step in range(1, num_steps+1):\n",
    "        #batch_x = np.random.choice(x[:,0], batch_size).reshape(batch_size, 1)\n",
    "        #batch_y = np.random.choice(y, batch_size)\n",
    "        batch_x = x\n",
    "        batch_y = y\n",
    "        # Run optimization op (backprop)\n",
    "        sess.run(train_op, feed_dict={X_tf: batch_x, y_tf: batch_y})\n",
    "        if step % display_step == 0 or step == 1:\n",
    "            # Calcualte batch loss and accuracy\n",
    "            loss = sess.run(loss_op, feed_dict={X_tf: batch_x, y_tf: batch_y})\n",
    "            print(\"step \" + str(step) + \", Minibatch Loss = \" + str(loss))\n",
    "    \n",
    "    print(\"optimization finished\")\n",
    "    \n",
    "    pred = sess.run(NN, feed_dict={X_tf: x})\n"
   ]
  },
  {
   "cell_type": "code",
   "execution_count": 7,
   "metadata": {},
   "outputs": [
    {
     "data": {
      "text/plain": [
       "[<matplotlib.lines.Line2D at 0x26de35c8ef0>]"
      ]
     },
     "execution_count": 7,
     "metadata": {},
     "output_type": "execute_result"
    },
    {
     "data": {
      "image/png": "[encoded data removed]",
      "text/plain": [
       "<Figure size 432x288 with 1 Axes>"
      ]
     },
     "metadata": {},
     "output_type": "display_data"
    }
   ],
   "source": [
    "plt.scatter(x, y, s = 1)\n",
    "plt.plot(x, pred, c = 'r')\n",
    "plt.plot(x, y_true, c = 'black')"
   ]
  },
  {
   "cell_type": "markdown",
   "metadata": {},
   "source": [
    "## Bayesian"
   ]
  },
  {
   "cell_type": "code",
   "execution_count": 20,
   "metadata": {},
   "outputs": [],
   "source": [
    "neural_net = tf.keras.Sequential([\n",
    "    tfp.layers.DenseFlipout(n_hidden1, activation=tf.nn.relu),\n",
    "    tfp.layers.DenseFlipout(n_hidden2, activation=tf.nn.relu),\n",
    "    tfp.layers.DenseFlipout(n_outputs),\n",
    "])\n",
    "\n",
    "# Construct model\n",
    "NN = neural_net(X_tf)\n",
    "\n",
    "# Define loss function and optimizer\n",
    "neg_log_likelihood  = tf.losses.mean_squared_error(labels = y_tf,\n",
    "                                        predictions = tf.transpose(NN))\n",
    "\n",
    "kl = sum(neural_net.losses)/n\n",
    "loss_op = neg_log_likelihood + kl\n",
    "\n",
    "optimizer = tf.train.AdamOptimizer()\n",
    "train_op = optimizer.minimize(loss_op)\n",
    "\n",
    "# Initialize the variables\n",
    "init = tf.global_variables_initializer()"
   ]
  },
  {
   "cell_type": "code",
   "execution_count": 21,
   "metadata": {},
   "outputs": [
    {
     "name": "stdout",
     "output_type": "stream",
     "text": [
      "step 1, Minibatch Loss = 11.05765\n",
      "step 500, Minibatch Loss = 1.473813\n",
      "step 1000, Minibatch Loss = 1.4322453\n",
      "step 1500, Minibatch Loss = 1.2833073\n",
      "step 2000, Minibatch Loss = 1.2030834\n",
      "step 2500, Minibatch Loss = 1.0529722\n",
      "step 3000, Minibatch Loss = 0.87374496\n",
      "step 3500, Minibatch Loss = 0.74610376\n",
      "step 4000, Minibatch Loss = 0.75319993\n",
      "step 4500, Minibatch Loss = 0.7146408\n",
      "step 5000, Minibatch Loss = 0.6325445\n",
      "step 5500, Minibatch Loss = 0.64803076\n",
      "step 6000, Minibatch Loss = 0.5992509\n",
      "step 6500, Minibatch Loss = 0.58657014\n",
      "step 7000, Minibatch Loss = 0.5746062\n",
      "step 7500, Minibatch Loss = 0.54215\n",
      "step 8000, Minibatch Loss = 0.57558405\n",
      "step 8500, Minibatch Loss = 0.533498\n",
      "step 9000, Minibatch Loss = 0.52933884\n",
      "step 9500, Minibatch Loss = 0.5580802\n",
      "step 10000, Minibatch Loss = 0.5317679\n",
      "optimization finished\n"
     ]
    }
   ],
   "source": [
    "# Start training\n",
    "with tf.Session() as sess:\n",
    "    # Run the initializer\n",
    "    sess.run(init)\n",
    "    \n",
    "    for step in range(1, num_steps+1):\n",
    "        batch_x = x\n",
    "        batch_y = y\n",
    "        # Run optimization op (backprop)\n",
    "        sess.run(train_op, feed_dict={X_tf: batch_x, y_tf: batch_y})\n",
    "        if step % display_step == 0 or step == 1:\n",
    "            # Calcualte batch loss and accuracy\n",
    "            loss = sess.run(loss_op, feed_dict={X_tf: batch_x, y_tf: batch_y})\n",
    "            print(\"step \" + str(step) + \", Minibatch Loss = \" + str(loss))\n",
    "    \n",
    "    print(\"optimization finished\")\n",
    "    \n",
    "    pred_mean = sess.run(NN, feed_dict={X_tf: x})\n",
    "    \n",
    "    # Draw sample for the weights and bias from the posterior\n",
    "    n_sample = 100\n",
    "    w0_draw = neural_net.layers[0].kernel_posterior.sample(n_sample).eval()\n",
    "    w1_draw = neural_net.layers[1].kernel_posterior.sample(n_sample).eval()\n",
    "    w2_draw = neural_net.layers[2].kernel_posterior.sample(n_sample).eval()\n",
    "    b0_draw = neural_net.layers[0].bias_posterior.sample(n_sample).eval()\n",
    "    b1_draw = neural_net.layers[1].bias_posterior.sample(n_sample).eval()\n",
    "    b2_draw = neural_net.layers[2].bias_posterior.sample(n_sample).eval()\n",
    "\n"
   ]
  },
  {
   "cell_type": "code",
   "execution_count": 22,
   "metadata": {},
   "outputs": [],
   "source": [
    "def np_relu(x):\n",
    "    return np.maximum(x, 0)\n",
    "\n",
    "pred = []\n",
    "for i in range(n_sample):\n",
    "    pred.append(np_relu(np_relu(x.dot(w0_draw[i])+b0_draw[i]).dot(w1_draw[i])+b1_draw[i]).dot(w2_draw[i])+b2_draw[i])"
   ]
  },
  {
   "cell_type": "code",
   "execution_count": 25,
   "metadata": {},
   "outputs": [
    {
     "data": {
      "text/plain": [
       "[<matplotlib.lines.Line2D at 0x26def0f0358>]"
      ]
     },
     "execution_count": 25,
     "metadata": {},
     "output_type": "execute_result"
    },
    {
     "data": {
      "image/png": "[encoded data removed]",
      "text/plain": [
       "<Figure size 432x288 with 1 Axes>"
      ]
     },
     "metadata": {},
     "output_type": "display_data"
    }
   ],
   "source": [
    "plt.scatter(x, y, s = 1)\n",
    "for i in range(n_sample):\n",
    "    plt.plot(x, pred[i], c = 'r', alpha = 0.1)\n",
    "plt.plot(x, y_true, c = 'black')\n",
    "#plt.plot(x, pred_mean, c = 'g')\n",
    "\n",
    "\n",
    "\n"
   ]
  },
  {
   "cell_type": "code",
   "execution_count": null,
   "metadata": {},
   "outputs": [],
   "source": []
  }
 ],
 "metadata": {
  "kernelspec": {
   "display_name": "Python 3",
   "language": "python",
   "name": "python3"
  },
  "language_info": {
   "codemirror_mode": {
    "name": "ipython",
    "version": 3
   },
   "file_extension": ".py",
   "mimetype": "text/x-python",
   "name": "python",
   "nbconvert_exporter": "python",
   "pygments_lexer": "ipython3",
   "version": "3.6.5"
  }
 },
 "nbformat": 4,
 "nbformat_minor": 2
}
