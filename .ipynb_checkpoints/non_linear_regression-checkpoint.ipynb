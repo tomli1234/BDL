{
 "cells": [
  {
   "cell_type": "code",
   "execution_count": 102,
   "metadata": {},
   "outputs": [
    {
     "data": {
      "text/plain": [
       "<matplotlib.collections.PathCollection at 0x25647e4bd68>"
      ]
     },
     "execution_count": 102,
     "metadata": {},
     "output_type": "execute_result"
    },
    {
     "data": {
      "image/png": "[encoded data removed]",
      "text/plain": [
       "<Figure size 432x288 with 1 Axes>"
      ]
     },
     "metadata": {},
     "output_type": "display_data"
    }
   ],
   "source": [
    "import pandas as pd\n",
    "import numpy as np\n",
    "%matplotlib inline\n",
    "import matplotlib.pyplot as plt\n",
    "import tensorflow as tf\n",
    "import tensorflow_probability as tfp\n",
    "\n",
    "# Data\n",
    "n = 100\n",
    "x = np.linspace(0,4,n)\n",
    "epis = np.random.uniform(-1,1,n)\n",
    "y = np.sin(x + epis * (x/5)**1.1)\n",
    "\n",
    "plt.scatter(x, y, s = 2)"
   ]
  },
  {
   "cell_type": "code",
   "execution_count": 104,
   "metadata": {},
   "outputs": [
    {
     "data": {
      "text/plain": [
       "(100, 1)"
      ]
     },
     "execution_count": 104,
     "metadata": {},
     "output_type": "execute_result"
    }
   ],
   "source": [
    "x = x.reshape(n, 1)\n",
    "x.shape"
   ]
  },
  {
   "cell_type": "markdown",
   "metadata": {},
   "source": [
    "## Non-Bayesian"
   ]
  },
  {
   "cell_type": "code",
   "execution_count": 132,
   "metadata": {},
   "outputs": [],
   "source": [
    "# Network parameter\n",
    "n_inputs = 1\n",
    "n_hidden1 = 100\n",
    "n_hidden2 = 50\n",
    "n_outputs = 1\n",
    "\n",
    "# tf Graph input\n",
    "X_tf = tf.placeholder(tf.float32,\n",
    "                  shape = (None, n_inputs),\n",
    "                  name = 'X')\n",
    "y_tf = tf.placeholder(tf.float32,\n",
    "                  shape = (None),\n",
    "                  name = 'y')\n",
    "\n",
    "# Paraameters\n",
    "learning_rate = 0.1\n",
    "num_steps = 1000\n",
    "batch_size = 100\n",
    "display_step = 500\n",
    "\n",
    "# Layer weights and bias\n",
    "weights = {\n",
    "    'h1': tf.Variable(tf.random_normal([n_inputs, n_hidden1])),\n",
    "    'h2': tf.Variable(tf.random_normal([n_hidden1, n_hidden2])),\n",
    "    'out': tf.Variable(tf.random_normal([n_hidden2, n_outputs])), \n",
    "}\n",
    "biases = {\n",
    "    'b1': tf.Variable(tf.random_normal([n_hidden1])),\n",
    "    'b2': tf.Variable(tf.random_normal([n_hidden2])),\n",
    "    'out': tf.Variable(tf.random_normal([n_outputs])), \n",
    "}\n",
    "\n",
    "# Model\n",
    "def neural_net(x):\n",
    "    # Hidden fully connected\n",
    "    layer_1 = tf.nn.relu(tf.add(tf.matmul(x, weights['h1']), biases['b1']))\n",
    "    #layer_1 = tf.nn.dropout(layer_1, keep_prob=0.8)\n",
    "    layer_2 = tf.nn.relu(tf.add(tf.matmul(layer_1, weights['h2']), biases['b2']))\n",
    "    #layer_2 = tf.nn.dropout(layer_2, keep_prob=0.8)\n",
    "    # Output\n",
    "    out_layer = tf.add(tf.matmul(layer_2, weights['out']), biases['out'])\n",
    "    \n",
    "    return out_layer"
   ]
  },
  {
   "cell_type": "code",
   "execution_count": 133,
   "metadata": {},
   "outputs": [],
   "source": [
    "# Construct model\n",
    "NN = neural_net(X_tf)\n",
    "\n",
    "# Define loss function and optimizer\n",
    "loss_op = tf.losses.mean_squared_error(labels = y_tf,\n",
    "                                        predictions = tf.transpose(NN))\n",
    "optimizer = tf.train.AdamOptimizer(learning_rate = learning_rate)\n",
    "train_op = optimizer.minimize(loss_op)\n",
    "\n",
    "# Evaluate model\n",
    "\n",
    "# Initialize the variables\n",
    "init = tf.global_variables_initializer()"
   ]
  },
  {
   "cell_type": "code",
   "execution_count": 134,
   "metadata": {
    "scrolled": true
   },
   "outputs": [
    {
     "name": "stdout",
     "output_type": "stream",
     "text": [
      "step 1, Minibatch Loss = 48427.477\n",
      "step 500, Minibatch Loss = 0.053928033\n",
      "step 1000, Minibatch Loss = 0.047175646\n",
      "optimization finished\n"
     ]
    }
   ],
   "source": [
    "# Start training\n",
    "with tf.Session() as sess:\n",
    "    # Run the initializer\n",
    "    sess.run(init)\n",
    "    \n",
    "    for step in range(1, num_steps+1):\n",
    "        #batch_x = np.random.choice(x[:,0], batch_size).reshape(batch_size, 1)\n",
    "        #batch_y = np.random.choice(y, batch_size)\n",
    "        batch_x = x\n",
    "        batch_y = y\n",
    "        # Run optimization op (backprop)\n",
    "        sess.run(train_op, feed_dict={X_tf: batch_x, y_tf: batch_y})\n",
    "        if step % display_step == 0 or step == 1:\n",
    "            # Calcualte batch loss and accuracy\n",
    "            loss = sess.run(loss_op, feed_dict={X_tf: batch_x, y_tf: batch_y})\n",
    "            print(\"step \" + str(step) + \", Minibatch Loss = \" + str(loss))\n",
    "    \n",
    "    print(\"optimization finished\")\n",
    "    \n",
    "    pred = sess.run(NN, feed_dict={X_tf: x})\n"
   ]
  },
  {
   "cell_type": "code",
   "execution_count": 135,
   "metadata": {},
   "outputs": [
    {
     "data": {
      "text/plain": [
       "[<matplotlib.lines.Line2D at 0x25654c0aa58>]"
      ]
     },
     "execution_count": 135,
     "metadata": {},
     "output_type": "execute_result"
    },
    {
     "data": {
      "image/png": "[encoded data removed]",
      "text/plain": [
       "<Figure size 432x288 with 1 Axes>"
      ]
     },
     "metadata": {},
     "output_type": "display_data"
    }
   ],
   "source": [
    "plt.scatter(x, y, s = 2)\n",
    "plt.plot(x, pred)\n"
   ]
  },
  {
   "cell_type": "markdown",
   "metadata": {},
   "source": [
    "## Bayesian"
   ]
  },
  {
   "cell_type": "code",
   "execution_count": 142,
   "metadata": {},
   "outputs": [],
   "source": [
    "neural_net = tf.keras.Sequential([\n",
    "    tfp.layers.DenseFlipout(5, activation=tf.nn.relu),\n",
    "    tfp.layers.DenseFlipout(5, activation=tf.nn.relu),\n",
    "    tfp.layers.DenseFlipout(1),\n",
    "])\n",
    "\n",
    "# Construct model\n",
    "NN = neural_net(X_tf)\n",
    "\n",
    "# Define loss function and optimizer\n",
    "loss_op = tf.losses.mean_squared_error(labels = y_tf,\n",
    "                                        predictions = tf.transpose(NN))\n",
    "optimizer = tf.train.AdamOptimizer(learning_rate = learning_rate)\n",
    "train_op = optimizer.minimize(loss_op)\n",
    "\n",
    "# Initialize the variables\n",
    "init = tf.global_variables_initializer()"
   ]
  },
  {
   "cell_type": "code",
   "execution_count": null,
   "metadata": {},
   "outputs": [
    {
     "name": "stdout",
     "output_type": "stream",
     "text": [
      "step 1, Minibatch Loss = 0.41377354\n",
      "step 500, Minibatch Loss = 0.09624525\n",
      "step 1000, Minibatch Loss = 0.09554053\n",
      "optimization finished\n"
     ]
    }
   ],
   "source": [
    "# Start training\n",
    "with tf.Session() as sess:\n",
    "    # Run the initializer\n",
    "    sess.run(init)\n",
    "    \n",
    "    for step in range(1, num_steps+1):\n",
    "        batch_x = x\n",
    "        batch_y = y\n",
    "        # Run optimization op (backprop)\n",
    "        sess.run(train_op, feed_dict={X_tf: batch_x, y_tf: batch_y})\n",
    "        if step % display_step == 0 or step == 1:\n",
    "            # Calcualte batch loss and accuracy\n",
    "            loss = sess.run(loss_op, feed_dict={X_tf: batch_x, y_tf: batch_y})\n",
    "            print(\"step \" + str(step) + \", Minibatch Loss = \" + str(loss))\n",
    "    \n",
    "    print(\"optimization finished\")\n",
    "    \n",
    "    pred_mean = sess.run(NN, feed_dict={X_tf: x})\n",
    "    \n",
    "    # Draw sample for the weights and bias from the posterior\n",
    "    w0_draw = []\n",
    "    w1_draw = []\n",
    "    w2_draw = []\n",
    "    b0_draw = []\n",
    "    b1_draw = []\n",
    "    b2_draw = []\n",
    "    for i in range(10):\n",
    "        w0_draw.append(neural_net.layers[0].kernel_posterior.sample().eval())\n",
    "        w1_draw.append(neural_net.layers[1].kernel_posterior.sample().eval())\n",
    "        w2_draw.append(neural_net.layers[2].kernel_posterior.sample().eval())\n",
    "        b0_draw.append(neural_net.layers[0].bias_posterior.sample().eval())\n",
    "        b1_draw.append(neural_net.layers[1].bias_posterior.sample().eval())\n",
    "        b2_draw.append(neural_net.layers[2].bias_posterior.sample().eval())\n",
    "    \n"
   ]
  },
  {
   "cell_type": "code",
   "execution_count": null,
   "metadata": {},
   "outputs": [],
   "source": [
    "def np_relu(x):\n",
    "    return np.maximum(x, 0)\n",
    "\n",
    "pred = []\n",
    "for i in range(5):\n",
    "    pred.append(np_relu(np_relu(x.dot(w0_draw[i])+b0_draw[i]).dot(w1_draw[i])+b1_draw[i]).dot(w2_draw[i])+b2_draw[i])"
   ]
  },
  {
   "cell_type": "code",
   "execution_count": null,
   "metadata": {},
   "outputs": [],
   "source": [
    "plt.scatter(x, y, s = 2)\n",
    "for i in range(5):\n",
    "    plt.plot(x, pred[i], c = 'r')\n",
    "#plt.plot(x, pred_mean, c = 'g')\n",
    "\n",
    "\n",
    "\n"
   ]
  },
  {
   "cell_type": "code",
   "execution_count": null,
   "metadata": {},
   "outputs": [],
   "source": []
  }
 ],
 "metadata": {
  "kernelspec": {
   "display_name": "Python 3",
   "language": "python",
   "name": "python3"
  },
  "language_info": {
   "codemirror_mode": {
    "name": "ipython",
    "version": 3
   },
   "file_extension": ".py",
   "mimetype": "text/x-python",
   "name": "python",
   "nbconvert_exporter": "python",
   "pygments_lexer": "ipython3",
   "version": "3.6.5"
  }
 },
 "nbformat": 4,
 "nbformat_minor": 2
}
