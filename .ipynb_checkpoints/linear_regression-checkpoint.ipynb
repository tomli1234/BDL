{
 "cells": [
  {
   "cell_type": "code",
   "execution_count": 202,
   "metadata": {},
   "outputs": [
    {
     "data": {
      "text/plain": [
       "<matplotlib.collections.PathCollection at 0x1fe13d4be10>"
      ]
     },
     "execution_count": 202,
     "metadata": {},
     "output_type": "execute_result"
    },
    {
     "data": {
      "image/png": "[encoded data removed]",
      "text/plain": [
       "<Figure size 432x288 with 1 Axes>"
      ]
     },
     "metadata": {},
     "output_type": "display_data"
    }
   ],
   "source": [
    "import pandas as pd\n",
    "import numpy as np\n",
    "%matplotlib inline\n",
    "import matplotlib.pyplot as plt\n",
    "import tensorflow as tf\n",
    "import tensorflow_probability as tfp\n",
    "\n",
    "# Data\n",
    "n = 50\n",
    "x = np.random.uniform(-1,1,n)\n",
    "epis = np.random.uniform(-1,1,n)\n",
    "y = 10 +  0.5*x + epis\n",
    "\n",
    "plt.scatter(x, y, s = 2)"
   ]
  },
  {
   "cell_type": "code",
   "execution_count": 203,
   "metadata": {},
   "outputs": [
    {
     "data": {
      "text/plain": [
       "(50, 1)"
      ]
     },
     "execution_count": 203,
     "metadata": {},
     "output_type": "execute_result"
    }
   ],
   "source": [
    "x = x.reshape(n, 1)\n",
    "x.shape"
   ]
  },
  {
   "cell_type": "code",
   "execution_count": 40,
   "metadata": {},
   "outputs": [],
   "source": [
    "#x = np.column_stack((x, x2))"
   ]
  },
  {
   "cell_type": "markdown",
   "metadata": {},
   "source": [
    "## Non-Bayesian"
   ]
  },
  {
   "cell_type": "code",
   "execution_count": 20,
   "metadata": {},
   "outputs": [],
   "source": [
    "# Network parameter\n",
    "n_inputs = x.shape[1]\n",
    "n_hidden1 = 1\n",
    "n_outputs = 1\n",
    "\n",
    "# tf Graph input\n",
    "X_tf = tf.placeholder(tf.float32,\n",
    "                  shape = (None, n_inputs),\n",
    "                  name = 'X')\n",
    "y_tf = tf.placeholder(tf.float32,\n",
    "                  shape = (None),\n",
    "                  name = 'y')\n",
    "\n",
    "# Paraameters\n",
    "learning_rate = 0.1\n",
    "num_steps = 400\n",
    "batch_size = 100\n",
    "display_step = 50\n",
    "\n",
    "# Layer weights and bias\n",
    "weights = {\n",
    "    'out': tf.Variable(tf.random_normal([n_inputs, n_outputs]))\n",
    "}\n",
    "biases = {\n",
    "    'out': tf.Variable(tf.random_normal([n_outputs])), \n",
    "}\n",
    "\n",
    "# Model\n",
    "def neural_net(x):\n",
    "    out_layer = tf.add(tf.matmul(x, weights['out']), biases['out'])\n",
    "    \n",
    "    return out_layer"
   ]
  },
  {
   "cell_type": "code",
   "execution_count": 21,
   "metadata": {},
   "outputs": [],
   "source": [
    "# Construct model\n",
    "NN = neural_net(X_tf)\n",
    "\n",
    "# Define loss function and optimizer\n",
    "loss_op = tf.losses.mean_squared_error(labels = y_tf,\n",
    "                                        predictions = tf.transpose(NN))\n",
    "optimizer = tf.train.AdamOptimizer(learning_rate = learning_rate)\n",
    "train_op = optimizer.minimize(loss_op)\n",
    "\n",
    "# Evaluate model\n",
    "\n",
    "# Initialize the variables\n",
    "init = tf.global_variables_initializer()"
   ]
  },
  {
   "cell_type": "code",
   "execution_count": 22,
   "metadata": {
    "scrolled": true
   },
   "outputs": [
    {
     "name": "stdout",
     "output_type": "stream",
     "text": [
      "step 1, Minibatch Loss = 96.983246\n",
      "step 50, Minibatch Loss = 28.18744\n",
      "step 100, Minibatch Loss = 5.061582\n",
      "step 150, Minibatch Loss = 0.7658076\n",
      "step 200, Minibatch Loss = 0.3445378\n",
      "step 250, Minibatch Loss = 0.32456523\n",
      "step 300, Minibatch Loss = 0.32417312\n",
      "step 350, Minibatch Loss = 0.32417122\n",
      "step 400, Minibatch Loss = 0.32417122\n",
      "optimization finished\n"
     ]
    }
   ],
   "source": [
    "# Start training\n",
    "with tf.Session() as sess:\n",
    "    # Run the initializer\n",
    "    sess.run(init)\n",
    "    \n",
    "    for step in range(1, num_steps+1):\n",
    "        #batch_x = np.random.choice(x[:,0], batch_size).reshape(batch_size, 1)\n",
    "        #batch_y = np.random.choice(y, batch_size)\n",
    "        batch_x = x\n",
    "        batch_y = y\n",
    "        # Run optimization op (backprop)\n",
    "        sess.run(train_op, feed_dict={X_tf: batch_x, y_tf: batch_y})\n",
    "        if step % display_step == 0 or step == 1:\n",
    "            # Calcualte batch loss and accuracy\n",
    "            loss = sess.run(loss_op, feed_dict={X_tf: batch_x, y_tf: batch_y})\n",
    "            print(\"step \" + str(step) + \", Minibatch Loss = \" + str(loss))\n",
    "    \n",
    "    print(\"optimization finished\")\n",
    "    \n",
    "    pred = sess.run(NN, feed_dict={X_tf: x})\n"
   ]
  },
  {
   "cell_type": "code",
   "execution_count": 23,
   "metadata": {},
   "outputs": [
    {
     "data": {
      "text/plain": [
       "<matplotlib.collections.PathCollection at 0x1fe7842d5c0>"
      ]
     },
     "execution_count": 23,
     "metadata": {},
     "output_type": "execute_result"
    },
    {
     "data": {
      "image/png": "[encoded data removed]",
      "text/plain": [
       "<Figure size 432x288 with 1 Axes>"
      ]
     },
     "metadata": {},
     "output_type": "display_data"
    }
   ],
   "source": [
    "plt.scatter(x[:,0], y, s = 2)\n",
    "plt.scatter(x[:,0], pred)\n"
   ]
  },
  {
   "cell_type": "markdown",
   "metadata": {},
   "source": [
    "## Bayesian"
   ]
  },
  {
   "cell_type": "code",
   "execution_count": 204,
   "metadata": {},
   "outputs": [],
   "source": [
    "neural_net = tf.keras.Sequential([\n",
    "    tfp.layers.DenseFlipout(1)\n",
    "])\n",
    "\n",
    "# Construct model\n",
    "NN = neural_net(X_tf)\n",
    "\n",
    "# Define loss function and optimizer\n",
    "# ELBO!!!!!!!!!!!!\n",
    "neg_log_likelihood  = tf.losses.mean_squared_error(labels = y_tf,\n",
    "                                        predictions = tf.transpose(NN))\n",
    "\n",
    "kl = sum(neural_net.losses)/n\n",
    "loss_op = neg_log_likelihood + kl\n",
    "\n",
    "optimizer = tf.train.AdamOptimizer(learning_rate = learning_rate)\n",
    "train_op = optimizer.minimize(loss_op)\n",
    "\n",
    "# Initialize the variables\n",
    "init = tf.global_variables_initializer()"
   ]
  },
  {
   "cell_type": "code",
   "execution_count": 205,
   "metadata": {},
   "outputs": [
    {
     "name": "stdout",
     "output_type": "stream",
     "text": [
      "step 1, Minibatch Loss = 100.06174\n",
      "step 50, Minibatch Loss = 29.229286\n",
      "step 100, Minibatch Loss = 5.79555\n",
      "step 150, Minibatch Loss = 0.9515405\n",
      "step 200, Minibatch Loss = 0.4493348\n",
      "step 250, Minibatch Loss = 0.400667\n",
      "step 300, Minibatch Loss = 0.4033499\n",
      "step 350, Minibatch Loss = 0.4054018\n",
      "step 400, Minibatch Loss = 0.49057806\n",
      "optimization finished\n"
     ]
    }
   ],
   "source": [
    "# Start training\n",
    "with tf.Session() as sess:\n",
    "    # Run the initializer\n",
    "    sess.run(init)\n",
    "    \n",
    "    for step in range(1, num_steps+1):\n",
    "        batch_x = x\n",
    "        batch_y = y\n",
    "        # Run optimization op (backprop)\n",
    "        sess.run(train_op, feed_dict={X_tf: batch_x, y_tf: batch_y})\n",
    "        if step % display_step == 0 or step == 1:\n",
    "            # Calcualte batch loss and accuracy\n",
    "            loss = sess.run(loss_op, feed_dict={X_tf: batch_x, y_tf: batch_y})\n",
    "            print(\"step \" + str(step) + \", Minibatch Loss = \" + str(loss))\n",
    "    \n",
    "    print(\"optimization finished\")\n",
    "    \n",
    "    pred_mean = sess.run(NN, feed_dict={X_tf: x})\n",
    "    \n",
    "    # Draw sample for the weights and bias from the posterior\n",
    "    w0_draw = neural_net.layers[0].kernel_posterior.sample(1000).eval()\n",
    "    #w1_draw = neural_net.layers[1].kernel_posterior.sample(100).eval()\n",
    "    #w2_draw = neural_net.layers[2].kernel_posterior.sample(100).eval()\n",
    "    b0_draw = neural_net.layers[0].bias_posterior.sample(1000).eval()\n",
    "    #b1_draw = neural_net.layers[1].bias_posterior.sample(100).eval()\n",
    "    #b2_draw = neural_net.layers[2].bias_posterior.sample(100).eval()\n",
    "\n"
   ]
  },
  {
   "cell_type": "code",
   "execution_count": 206,
   "metadata": {},
   "outputs": [],
   "source": [
    "def np_relu(x):\n",
    "    return np.maximum(x, 0)\n",
    "\n",
    "pred = []\n",
    "for i in range(100):\n",
    "    pred.append(x.dot(w0_draw[i])+b0_draw[i])"
   ]
  },
  {
   "cell_type": "code",
   "execution_count": 207,
   "metadata": {},
   "outputs": [
    {
     "data": {
      "image/png": "[encoded data removed]",
      "text/plain": [
       "<Figure size 432x288 with 1 Axes>"
      ]
     },
     "metadata": {},
     "output_type": "display_data"
    }
   ],
   "source": [
    "plt.scatter(x[:,0], y, s = 2)\n",
    "for i in range(100):\n",
    "    plt.plot(x[:,0], pred[i], c = 'r', alpha = 0.1)\n",
    "#plt.scatter(x[:,0], pred_mean, c = 'g')\n",
    "\n",
    "\n",
    "\n"
   ]
  },
  {
   "cell_type": "code",
   "execution_count": 208,
   "metadata": {},
   "outputs": [
    {
     "data": {
      "text/plain": [
       "(0, 1)"
      ]
     },
     "execution_count": 208,
     "metadata": {},
     "output_type": "execute_result"
    },
    {
     "data": {
      "image/png": "[encoded data removed]",
      "text/plain": [
       "<Figure size 432x288 with 1 Axes>"
      ]
     },
     "metadata": {},
     "output_type": "display_data"
    }
   ],
   "source": [
    "plt.hist(w0_draw[:,0])\n",
    "plt.xlim(0,1)\n"
   ]
  },
  {
   "cell_type": "code",
   "execution_count": 209,
   "metadata": {},
   "outputs": [
    {
     "data": {
      "text/plain": [
       "(array([   0.,    0.,    0.,    0.,    0., 1000.,    0.,    0.,    0.,\n",
       "           0.]),\n",
       " array([ 9.45412827,  9.55412827,  9.65412827,  9.75412827,  9.85412827,\n",
       "         9.95412827, 10.05412827, 10.15412827, 10.25412827, 10.35412827,\n",
       "        10.45412827]),\n",
       " <a list of 10 Patch objects>)"
      ]
     },
     "execution_count": 209,
     "metadata": {},
     "output_type": "execute_result"
    },
    {
     "data": {
      "image/png": "[encoded data removed]",
      "text/plain": [
       "<Figure size 432x288 with 1 Axes>"
      ]
     },
     "metadata": {},
     "output_type": "display_data"
    }
   ],
   "source": [
    "plt.hist(b0_draw[:,0])"
   ]
  },
  {
   "cell_type": "code",
   "execution_count": null,
   "metadata": {},
   "outputs": [],
   "source": []
  },
  {
   "cell_type": "code",
   "execution_count": null,
   "metadata": {},
   "outputs": [],
   "source": []
  },
  {
   "cell_type": "code",
   "execution_count": null,
   "metadata": {},
   "outputs": [],
   "source": []
  },
  {
   "cell_type": "code",
   "execution_count": null,
   "metadata": {},
   "outputs": [],
   "source": []
  },
  {
   "cell_type": "code",
   "execution_count": null,
   "metadata": {},
   "outputs": [],
   "source": []
  }
 ],
 "metadata": {
  "kernelspec": {
   "display_name": "Python 3",
   "language": "python",
   "name": "python3"
  },
  "language_info": {
   "codemirror_mode": {
    "name": "ipython",
    "version": 3
   },
   "file_extension": ".py",
   "mimetype": "text/x-python",
   "name": "python",
   "nbconvert_exporter": "python",
   "pygments_lexer": "ipython3",
   "version": "3.6.5"
  }
 },
 "nbformat": 4,
 "nbformat_minor": 2
}
